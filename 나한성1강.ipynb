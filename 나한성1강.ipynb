{
  "nbformat": 4,
  "nbformat_minor": 0,
  "metadata": {
    "colab": {
      "provenance": [],
      "collapsed_sections": [],
      "authorship_tag": "ABX9TyMgim4IdkTOtGm16PulO2AY",
      "include_colab_link": true
    },
    "kernelspec": {
      "name": "python3",
      "display_name": "Python 3"
    },
    "language_info": {
      "name": "python"
    }
  },
  "cells": [
    {
      "cell_type": "markdown",
      "metadata": {
        "id": "view-in-github",
        "colab_type": "text"
      },
      "source": [
        "<a href=\"https://colab.research.google.com/github/2101100/-2101100-/blob/main/%EB%82%98%ED%95%9C%EC%84%B11%EA%B0%95.ipynb\" target=\"_parent\"><img src=\"https://colab.research.google.com/assets/colab-badge.svg\" alt=\"Open In Colab\"/></a>"
      ]
    },
    {
      "cell_type": "code",
      "execution_count": null,
      "metadata": {
        "id": "9YQmgx_rVS71"
      },
      "outputs": [],
      "source": [
        "def greet():\n",
        "  print(\"hello world\")\n",
        "\n"
      ]
    },
    {
      "cell_type": "code",
      "source": [
        "greet()"
      ],
      "metadata": {
        "colab": {
          "base_uri": "https://localhost:8080/"
        },
        "id": "vKZ3MLoGWFKX",
        "outputId": "537cb30c-4ecb-4e99-e803-d31e06bed6d7"
      },
      "execution_count": null,
      "outputs": [
        {
          "output_type": "stream",
          "name": "stdout",
          "text": [
            "hello world\n"
          ]
        }
      ]
    },
    {
      "cell_type": "markdown",
      "source": [
        "() = parameter 매개변수"
      ],
      "metadata": {
        "id": "4MWT9b-WW_9B"
      }
    },
    {
      "cell_type": "code",
      "source": [
        "def functionName():\n",
        " print(\"hello world\")\n",
        "\n",
        "functionName()"
      ],
      "metadata": {
        "colab": {
          "base_uri": "https://localhost:8080/"
        },
        "id": "cXVgMH1qWb8G",
        "outputId": "f9015eed-0a4e-4417-de66-f2868a3127a3"
      },
      "execution_count": null,
      "outputs": [
        {
          "output_type": "stream",
          "name": "stdout",
          "text": [
            "hello world\n"
          ]
        }
      ]
    },
    {
      "cell_type": "code",
      "source": [
        "def add(a,b):\n",
        "  c=a+b\n",
        "  return c\n",
        "add(1,2)"
      ],
      "metadata": {
        "colab": {
          "base_uri": "https://localhost:8080/"
        },
        "id": "eptz_MgzX4YG",
        "outputId": "72e904fc-d018-4108-bdcd-8cd6104c1cbb"
      },
      "execution_count": null,
      "outputs": [
        {
          "output_type": "execute_result",
          "data": {
            "text/plain": [
              "3"
            ]
          },
          "metadata": {},
          "execution_count": 14
        }
      ]
    },
    {
      "cell_type": "code",
      "source": [
        "def multiply(a,b):\n",
        "  c=a*b\n",
        "  return c\n",
        "multiply(1,2)"
      ],
      "metadata": {
        "colab": {
          "base_uri": "https://localhost:8080/"
        },
        "id": "iAvmNPnxYaMv",
        "outputId": "a888cda2-21bd-4ef6-fcd1-e7f1a5944f0b"
      },
      "execution_count": null,
      "outputs": [
        {
          "output_type": "execute_result",
          "data": {
            "text/plain": [
              "2"
            ]
          },
          "metadata": {},
          "execution_count": 15
        }
      ]
    },
    {
      "cell_type": "code",
      "source": [
        "def greet2(name):\n",
        "  print('반갑습니다.',name)\n",
        "  print(name,'님은 파이썬의 세계로 오셨습니다.')"
      ],
      "metadata": {
        "id": "DnlD-pK_Yv9D"
      },
      "execution_count": null,
      "outputs": []
    },
    {
      "cell_type": "code",
      "source": [
        "greet2('a')"
      ],
      "metadata": {
        "colab": {
          "base_uri": "https://localhost:8080/"
        },
        "id": "jdaJnIBkZbpt",
        "outputId": "40ec047a-b14f-4f75-cba3-f50cdcf50231"
      },
      "execution_count": null,
      "outputs": [
        {
          "output_type": "stream",
          "name": "stdout",
          "text": [
            "반갑습니다. a\n",
            "a 님은 파이썬의 세계로 오셨습니다.\n"
          ]
        }
      ]
    },
    {
      "cell_type": "markdown",
      "source": [
        "print() - ()안에 \",' 둘다 가능\n",
        "명령을 실행시킬 때 greet2('') - ()안에 ''입력 (string type)"
      ],
      "metadata": {
        "id": "emFTgCXFaM0n"
      }
    },
    {
      "cell_type": "code",
      "source": [
        "inputName = 'b'"
      ],
      "metadata": {
        "id": "srsMBTndaybl"
      },
      "execution_count": null,
      "outputs": []
    },
    {
      "cell_type": "code",
      "source": [
        "greet2(inputName)"
      ],
      "metadata": {
        "colab": {
          "base_uri": "https://localhost:8080/"
        },
        "id": "lUWjaNM0bn7b",
        "outputId": "01a9d393-e93e-480f-bfd4-8f541f781ab9"
      },
      "execution_count": null,
      "outputs": [
        {
          "output_type": "stream",
          "name": "stdout",
          "text": [
            "반갑습니다. b\n",
            "b 님은 파이썬의 세계로 오셨습니다.\n"
          ]
        }
      ]
    },
    {
      "cell_type": "markdown",
      "source": [
        "\"=\" = 할당의 의미"
      ],
      "metadata": {
        "id": "VIcGpNF2cNp-"
      }
    },
    {
      "cell_type": "code",
      "source": [
        "def adder(num1,num2):\n",
        "  sum = num1+num2\n",
        "  print('덧셈결과:',num1+num2)"
      ],
      "metadata": {
        "id": "be_ZJItAcSW5"
      },
      "execution_count": null,
      "outputs": []
    },
    {
      "cell_type": "code",
      "source": [
        "adder(10,5)"
      ],
      "metadata": {
        "colab": {
          "base_uri": "https://localhost:8080/"
        },
        "id": "GcsUNU-Ic1ui",
        "outputId": "ffccb791-2335-4ad8-eb2a-32108946fa22"
      },
      "execution_count": null,
      "outputs": [
        {
          "output_type": "stream",
          "name": "stdout",
          "text": [
            "덧셈결과: 15\n"
          ]
        }
      ]
    },
    {
      "cell_type": "code",
      "source": [
        "def adder2(num1,num2):\n",
        "  sum = num1+num2\n",
        "  print('덧셈결과:',sum)"
      ],
      "metadata": {
        "id": "J--QE71odGtn"
      },
      "execution_count": null,
      "outputs": []
    },
    {
      "cell_type": "code",
      "source": [
        "adder(10,5)"
      ],
      "metadata": {
        "colab": {
          "base_uri": "https://localhost:8080/"
        },
        "id": "HraAbKiodW5u",
        "outputId": "226850c9-dcf4-45c1-dba7-ac3b31633049"
      },
      "execution_count": null,
      "outputs": [
        {
          "output_type": "stream",
          "name": "stdout",
          "text": [
            "덧셈결과: 15\n"
          ]
        }
      ]
    },
    {
      "cell_type": "code",
      "source": [
        "sum"
      ],
      "metadata": {
        "colab": {
          "base_uri": "https://localhost:8080/"
        },
        "id": "pQthhKDWz8dh",
        "outputId": "c0b3c1c8-1dee-402a-f490-0c6d85f845df"
      },
      "execution_count": null,
      "outputs": [
        {
          "output_type": "execute_result",
          "data": {
            "text/plain": [
              "<function sum(iterable, start=0, /)>"
            ]
          },
          "metadata": {},
          "execution_count": 1
        }
      ]
    },
    {
      "cell_type": "markdown",
      "source": [
        "하나의 함수 내에 사용되는 변수(지역변수), 전체에 사용 가능 함수(전역변수)"
      ],
      "metadata": {
        "id": "7O1Ow7yW0F-f"
      }
    },
    {
      "cell_type": "markdown",
      "source": [
        "함수가 끝남과 동시에 sum 변수가 memory에서 없어진다."
      ],
      "metadata": {
        "id": "wfofPDIn1UuW"
      }
    },
    {
      "cell_type": "code",
      "source": [
        "def adder3(num1,num2):\n",
        "  sum = num1+num2\n",
        "  return sum"
      ],
      "metadata": {
        "id": "gUaFF6c-09gX"
      },
      "execution_count": null,
      "outputs": []
    },
    {
      "cell_type": "markdown",
      "source": [
        "*sum을 return했기 때문에 memory에서 지워지지 않음."
      ],
      "metadata": {
        "id": "aB6OygNB2zOa"
      }
    },
    {
      "cell_type": "code",
      "source": [
        "result = adder3(10,5)\n",
        "print(result)"
      ],
      "metadata": {
        "colab": {
          "base_uri": "https://localhost:8080/"
        },
        "id": "UlqcEqXg4TKY",
        "outputId": "4e9be803-256d-4bfb-94de-0a2a10973567"
      },
      "execution_count": null,
      "outputs": [
        {
          "output_type": "stream",
          "name": "stdout",
          "text": [
            "15\n"
          ]
        }
      ]
    },
    {
      "cell_type": "markdown",
      "source": [
        "함수의 종류 이후에 함수 안의 sum 변수는 메모리에서 접근이 불가능 하게 됨"
      ],
      "metadata": {
        "id": "PUmbVx2d4kbK"
      }
    },
    {
      "cell_type": "code",
      "source": [
        "def adder4(num1,num2):\n",
        "  sum = num1+num2\n",
        "  return sum\n",
        "def main():\n",
        "    print(adder(5,3))"
      ],
      "metadata": {
        "id": "Ftmw-GIw5EIH"
      },
      "execution_count": null,
      "outputs": []
    },
    {
      "cell_type": "code",
      "source": [
        "main()"
      ],
      "metadata": {
        "colab": {
          "base_uri": "https://localhost:8080/"
        },
        "id": "WwnGOdoB5rQ3",
        "outputId": "ef7907f8-bcfb-46b1-9de3-98b7931d4c07"
      },
      "execution_count": null,
      "outputs": [
        {
          "output_type": "stream",
          "name": "stdout",
          "text": [
            "덧셈결과: 8\n",
            "None\n"
          ]
        }
      ]
    },
    {
      "cell_type": "markdown",
      "source": [
        "<아래는 내장함수>"
      ],
      "metadata": {
        "id": "I9kJGQ7B6HNU"
      }
    },
    {
      "cell_type": "code",
      "source": [
        "max(2,3,4)"
      ],
      "metadata": {
        "colab": {
          "base_uri": "https://localhost:8080/"
        },
        "id": "SzI7SBdr50FL",
        "outputId": "063b4310-9d18-4f71-bf0a-ec02ecd62d21"
      },
      "execution_count": null,
      "outputs": [
        {
          "output_type": "execute_result",
          "data": {
            "text/plain": [
              "4"
            ]
          },
          "metadata": {},
          "execution_count": 33
        }
      ]
    },
    {
      "cell_type": "code",
      "source": [
        "min(2,3,4)"
      ],
      "metadata": {
        "colab": {
          "base_uri": "https://localhost:8080/"
        },
        "id": "ssH2Ry1y53qF",
        "outputId": "8b14237e-d831-490d-fe4a-bcde13e10dd3"
      },
      "execution_count": null,
      "outputs": [
        {
          "output_type": "execute_result",
          "data": {
            "text/plain": [
              "2"
            ]
          },
          "metadata": {},
          "execution_count": 34
        }
      ]
    },
    {
      "cell_type": "code",
      "source": [
        "round(3.51)"
      ],
      "metadata": {
        "colab": {
          "base_uri": "https://localhost:8080/"
        },
        "id": "oZD0veMW55pJ",
        "outputId": "32f4fc85-9bb4-4b86-eed9-bb98f7f01475"
      },
      "execution_count": null,
      "outputs": [
        {
          "output_type": "execute_result",
          "data": {
            "text/plain": [
              "4"
            ]
          },
          "metadata": {},
          "execution_count": 35
        }
      ]
    },
    {
      "cell_type": "code",
      "source": [
        "round(3.141592,2)"
      ],
      "metadata": {
        "colab": {
          "base_uri": "https://localhost:8080/"
        },
        "id": "5vbeljG36mQe",
        "outputId": "9be25bc1-cff6-480e-bdf4-f9758e5ffdbc"
      },
      "execution_count": null,
      "outputs": [
        {
          "output_type": "execute_result",
          "data": {
            "text/plain": [
              "3.14"
            ]
          },
          "metadata": {},
          "execution_count": 38
        }
      ]
    },
    {
      "cell_type": "code",
      "source": [
        "abs(-3)"
      ],
      "metadata": {
        "colab": {
          "base_uri": "https://localhost:8080/"
        },
        "id": "SAHeJQlL59Fn",
        "outputId": "0dcabe2f-6160-438a-a33b-095d3daf6c39"
      },
      "execution_count": null,
      "outputs": [
        {
          "output_type": "execute_result",
          "data": {
            "text/plain": [
              "3"
            ]
          },
          "metadata": {},
          "execution_count": 36
        }
      ]
    },
    {
      "cell_type": "code",
      "source": [
        "pow(2,3)"
      ],
      "metadata": {
        "colab": {
          "base_uri": "https://localhost:8080/"
        },
        "id": "39cwRmzu6BGL",
        "outputId": "4b0205cf-8446-4140-ef4d-ffe058be95fe"
      },
      "execution_count": null,
      "outputs": [
        {
          "output_type": "execute_result",
          "data": {
            "text/plain": [
              "8"
            ]
          },
          "metadata": {},
          "execution_count": 37
        }
      ]
    },
    {
      "cell_type": "code",
      "source": [
        "10%3"
      ],
      "metadata": {
        "colab": {
          "base_uri": "https://localhost:8080/"
        },
        "id": "7_DSyN4q6Nih",
        "outputId": "9a1f02ec-f46c-429e-94eb-93667806d6e1"
      },
      "execution_count": null,
      "outputs": [
        {
          "output_type": "execute_result",
          "data": {
            "text/plain": [
              "1"
            ]
          },
          "metadata": {},
          "execution_count": 40
        }
      ]
    },
    {
      "cell_type": "code",
      "source": [
        "result = eval(input(\"뭐든 넣어요:\"))\n",
        "result"
      ],
      "metadata": {
        "colab": {
          "base_uri": "https://localhost:8080/"
        },
        "id": "aW27IHmt67iD",
        "outputId": "a8605a94-2e10-4069-efdd-99ec45d13789"
      },
      "execution_count": null,
      "outputs": [
        {
          "name": "stdout",
          "output_type": "stream",
          "text": [
            "뭐든 넣어요:2-4*5+3\n"
          ]
        },
        {
          "output_type": "execute_result",
          "data": {
            "text/plain": [
              "-15"
            ]
          },
          "metadata": {},
          "execution_count": 42
        }
      ]
    },
    {
      "cell_type": "markdown",
      "source": [
        "eval() = 계산하는 함수"
      ],
      "metadata": {
        "id": "xsp6eTDz7pIS"
      }
    },
    {
      "cell_type": "code",
      "source": [
        "def ret():\n",
        "  return 12"
      ],
      "metadata": {
        "id": "W4F6oogb76RS"
      },
      "execution_count": null,
      "outputs": []
    },
    {
      "cell_type": "code",
      "source": [
        "result = eval(input(\"뭐든 넣어요:\"))"
      ],
      "metadata": {
        "colab": {
          "base_uri": "https://localhost:8080/"
        },
        "id": "taopvNjG8DzQ",
        "outputId": "e1328408-7010-45cd-a00a-e480bc8e64fa"
      },
      "execution_count": null,
      "outputs": [
        {
          "name": "stdout",
          "output_type": "stream",
          "text": [
            "뭐든 넣어요:ret()\n"
          ]
        }
      ]
    },
    {
      "cell_type": "code",
      "source": [
        "print(result)"
      ],
      "metadata": {
        "colab": {
          "base_uri": "https://localhost:8080/"
        },
        "id": "a5PICz3T8I7D",
        "outputId": "070a5682-bca1-4d22-9d91-be9671d4ca37"
      },
      "execution_count": null,
      "outputs": [
        {
          "output_type": "stream",
          "name": "stdout",
          "text": [
            "12\n"
          ]
        }
      ]
    }
  ]
}