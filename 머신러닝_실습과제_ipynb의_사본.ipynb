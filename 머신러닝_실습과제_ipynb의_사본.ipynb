{
  "nbformat": 4,
  "nbformat_minor": 0,
  "metadata": {
    "colab": {
      "provenance": [],
      "collapsed_sections": [],
      "mount_file_id": "1YcwnPfFYX0qT-vyM3xB7qg3cpeto8Pay",
      "authorship_tag": "ABX9TyMjjt//ihYvy9OJS3Z2vA8A",
      "include_colab_link": true
    },
    "kernelspec": {
      "name": "python3",
      "display_name": "Python 3"
    },
    "language_info": {
      "name": "python"
    }
  },
  "cells": [
    {
      "cell_type": "markdown",
      "metadata": {
        "id": "view-in-github",
        "colab_type": "text"
      },
      "source": [
        "<a href=\"https://colab.research.google.com/github/2101100/-2101100-/blob/main/%EB%A8%B8%EC%8B%A0%EB%9F%AC%EB%8B%9D_%EC%8B%A4%EC%8A%B5%EA%B3%BC%EC%A0%9C_ipynb%EC%9D%98_%EC%82%AC%EB%B3%B8.ipynb\" target=\"_parent\"><img src=\"https://colab.research.google.com/assets/colab-badge.svg\" alt=\"Open In Colab\"/></a>"
      ]
    },
    {
      "cell_type": "code",
      "execution_count": null,
      "metadata": {
        "colab": {
          "base_uri": "https://localhost:8080/"
        },
        "id": "-6rIGgPncj1S",
        "outputId": "69156357-aa59-43f3-ff41-e34c9b582dd4"
      },
      "outputs": [
        {
          "output_type": "stream",
          "name": "stdout",
          "text": [
            "{'a': 22, 'again': 2, 'ago': 1, 'ahead': 1, 'all': 3, 'allow': 1, 'alone': 1, 'also': 1, 'always': 1, 'am': 1, 'america': 4, 'american': 3, 'an': 3, 'and': 22, 'architects': 1, 'are': 6, 'as': 19, 'asking': 1, 'autumn': 1, 'awakening': 1, 'back': 2, 'bad': 1, 'bank': 1, 'bankrupt': 1, 'basic': 1, 'be': 12, 'beacon': 1, 'been': 1, 'beginning': 1, 'believe': 2, 'believes': 1, 'bitterness': 1, 'black': 1, 'blow': 1, 'bodies': 1, 'bound': 1, 'bright': 1, 'brotherhood': 1, 'brothers': 1, 'brutality': 1, 'business': 1, 'but': 4, 'by': 4, 'came': 2, 'can': 3, 'cannot': 6, 'capital': 1, 'captivity': 1, 'cash': 2, 'chains': 1, 'check': 5, 'children': 2, 'cities': 1, 'citizens': 1, 'citizenship': 1, 'civil': 1, 'color': 1, 'come': 7, 'community': 1, 'concerned': 1, 'condition': 1, 'conduct': 1, 'constitution': 1, 'content': 1, 'continue': 1, 'cooling': 1, 'corners': 1, 'creative': 1, 'crippled': 1, 'cup': 1, 'dark': 1, 'day': 1, 'daybreak': 1, 'declaration': 1, 'decree': 1, 'deeds': 1, 'defaulted': 1, 'degenerate': 1, 'demand': 1, 'democracy': 1, 'demonstration': 1, 'desolate': 1, 'destiny': 2, 'devotees': 1, 'dignity': 2, 'discipline': 1, 'discontent': 1, 'discrimination': 1, 'distrust': 1, 'down': 2, 'dramatize': 1, 'drinking': 1, 'drug': 1, 'emancipation': 1, 'emerges': 1, 'end': 2, 'engage': 1, 'engulfed': 1, 'equality': 1, 'every': 1, 'evidenced': 1, 'exile': 1, 'fall': 1, 'fatal': 1, 'fatigue': 1, 'fierce': 1, 'finds': 1, 'five': 1, 'flames': 1, 'for': 7, 'force': 2, 'forever': 1, 'foundations': 1, 'free': 1, 'freedom': 6, 'from': 4, 'funds': 2, 'gain': 1, 'gaining': 1, 'ghetto': 1, 'give': 1, 'given': 1, 'go': 1, \"god's\": 1, 'gradualism': 1, 'granted': 1, 'great': 3, 'greatest': 1, 'guaranteed': 1, 'guilty': 1, 'had': 1, 'hallowed': 1, 'happiness': 1, 'happy': 1, 'has': 5, 'hatred': 1, 'have': 4, 'he': 1, 'heavy': 1, 'heights': 1, 'heir': 1, 'her': 1, 'here': 2, 'high': 1, 'highways': 1, 'himself': 1, 'his': 2, 'history': 2, 'honoring': 1, 'hope': 2, 'horrors': 1, 'hotels': 1, 'hundred': 4, 'i': 2, 'if': 1, 'in': 16, 'independence': 1, 'inextricably': 1, 'injustice': 2, 'insofar': 1, 'instead': 1, 'insufficient': 2, 'into': 2, 'invigorating': 1, 'is': 18, 'island': 1, 'it': 3, 'join': 1, 'joyous': 1, 'justice': 6, 'justice:': 1, 'land': 1, 'languished': 1, 'larger': 1, 'later': 4, 'lead': 1, 'leads': 1, 'legitimate': 1, 'let': 1, 'liberty': 1, 'life': 2, 'lift': 1, 'light': 1, 'like': 2, 'lives': 1, 'lodging': 1, 'lonely': 1, 'long': 6, 'luxury': 1, 'magnificent': 1, 'majestic': 1, 'make': 3, 'manacles': 1, 'many': 1, 'march': 1, 'marked': 1, 'marvelous': 1, 'material': 1, 'meeting': 1, 'men': 3, 'midst': 1, 'mighty': 1, 'militancy': 1, 'millions': 1, 'mississippi': 1, 'mobility': 1, 'moment': 1, 'momentous': 1, 'motels': 1, 'must': 7, 'my': 1, 'nation': 6, \"nation's\": 1, 'needed': 1, 'negro': 12, \"negro's\": 2, 'neither': 1, 'never': 3, 'new': 2, 'night': 1, 'nineteen': 1, 'no': 3, 'nor': 1, 'not': 9, 'note': 3, 'nothing': 1, 'now': 6, 'obligation': 1, 'obvious': 1, 'ocean': 1, 'of': 56, 'off': 2, 'on': 4, 'one': 5, 'only': 1, 'opportunity': 1, 'or': 1, 'our': 14, 'overlook': 1, 'own': 1, 'palace': 1, 'pass': 1, 'path': 1, 'people': 3, 'physical': 2, 'place': 1, 'plane': 1, 'pledge': 1, 'police': 1, 'poverty': 1, 'presence': 1, 'process': 1, 'proclamation': 1, 'promise': 1, 'promises': 1, 'promissory': 2, 'prosperity': 1, 'protest': 1, 'pursuit': 1, 'quicksands': 1, 'racial': 2, 'real': 1, 'reality': 1, 'realize': 2, 'refuse': 2, 'remind': 1, 'republic': 1, 'rest': 1, 'returns': 1, 'revolt': 1, 'riches': 1, 'righteousness': 1, 'rightful': 1, 'rights': 3, 'rise': 2, 'robbed': 1, 'rock': 1, 'rolls': 1, 'rude': 1, 'sacred': 1, 'sadly': 1, 'satisfied': 8, 'satisfy': 1, 'say': 1, 'score': 1, 'seared': 1, 'security': 1, 'seek': 1, 'segregation': 2, 'self-hood': 1, 'sense': 1, 'shadow': 1, 'shake': 1, 'shall': 1, 'shameful': 1, 'signed': 1, 'signing': 1, 'signs': 1, 'sixty-three': 1, 'slaves': 1, 'smaller': 1, 'so': 2, 'society': 1, 'solid': 1, 'something': 1, 'soul': 1, 'spot': 1, 'stand': 2, 'stating:': 1, 'steam': 1, 'still': 3, 'stream1': 1, 'stripped': 1, 'struggle': 1, 'summer': 1, 'sunlit': 1, 'sweltering': 1, 'symbolic': 1, 'take': 1, 'that': 10, 'the': 66, 'their': 6, 'there': 5, 'they': 2, 'thirst': 1, 'this': 9, 'those': 2, 'threshold': 1, 'tied': 1, 'time': 5, 'to': 35, 'today': 5, 'tranquility': 1, 'tranquilizing': 1, 'travel': 1, 'turn': 1, 'unalienable': 1, 'unspeakable': 1, 'until': 4, 'up': 1, 'upon': 1, 'urgency': 2, 'us': 3, 'usual': 1, 'valley': 1, 'vast': 1, 'vaults': 1, 'victim': 1, 'violence': 1, 'vote': 2, 'walk': 2, 'warm': 1, 'was': 2, 'waters': 1, 'we': 20, \"we've\": 3, 'well': 1, 'were': 1, 'what': 1, 'when': 2, 'which': 5, 'whirlwinds': 1, 'white': 3, 'whites': 1, 'who': 4, 'whose': 1, 'will': 9, 'with': 4, 'withering': 1, 'words': 1, 'would': 2, 'wrongful': 1, 'wrote': 1, 'years': 5, 'yes': 1, 'york': 1, 'you': 2}\n"
          ]
        }
      ],
      "source": [
        "with open(\"/content/drive/MyDrive/I_have_a_dream.txt\",'r') as f:\n",
        "  lines=f.readlines()\n",
        "\n",
        "  wordCounts={}\n",
        "  line_lower=[]\n",
        "\n",
        "  for line in lines:\n",
        "    line_lower.append(line.lower())\n",
        "    line_one=' '.join(line_lower)\n",
        "\n",
        "    line_one = line_one.replace(',','')\n",
        "    line_one = line_one.replace('.','')\n",
        "    line_one = line_one.replace('\"','')\n",
        "    line_one = line_one.replace('?','')\n",
        "    line_one = line_one.replace('!','')\n",
        "    line_one = line_one.replace('*','')\n",
        "\n",
        "    words=line_one.split()\n",
        "  for word in words:\n",
        "    if word in wordCounts:\n",
        "      wordCounts[word]+=1\n",
        "    else:\n",
        "      wordCounts[word]=1\n",
        "\n",
        "wordCounts_1=dict(sorted(wordCounts.items()))\n",
        "print(wordCounts_1)"
      ]
    }
  ]
}